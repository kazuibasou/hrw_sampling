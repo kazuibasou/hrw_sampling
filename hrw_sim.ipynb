{
 "cells": [
  {
   "cell_type": "code",
   "id": "initial_id",
   "metadata": {
    "collapsed": true,
    "ExecuteTime": {
     "end_time": "2025-04-01T02:26:36.096001Z",
     "start_time": "2025-04-01T02:26:35.813737Z"
    }
   },
   "source": [
    "import hypergraph\n",
    "import hrw\n",
    "import openalex\n",
    "import sim"
   ],
   "outputs": [],
   "execution_count": 1
  },
  {
   "metadata": {},
   "cell_type": "markdown",
   "source": [
    "# Dataset construction\n",
    "\n",
    "First, we construct the five hypergraph datasets used in [our paper](https://arxiv.org/abs/2502.19030).\n",
    "This process will take 30 minutes or more to complete."
   ],
   "id": "ca26a2af574f4673"
  },
  {
   "metadata": {
    "ExecuteTime": {
     "end_time": "2025-04-01T02:47:44.448959Z",
     "start_time": "2025-04-01T02:26:37.443590Z"
    }
   },
   "cell_type": "code",
   "source": "hypergraph.construct_hypergraph()",
   "id": "4fe6b9267f9be942",
   "outputs": [
    {
     "name": "stdout",
     "output_type": "stream",
     "text": [
      "coauth-DBLP-full Number of nodes 1748508 Number of hyperedges 2908856\n",
      "coauth-MAG-Geology-full Number of nodes 1088242 Number of hyperedges 1013444\n",
      "coauth-MAG-History-full Number of nodes 373713 Number of hyperedges 248754\n",
      "amazon-reviews Number of nodes 2268192 Number of hyperedges 4285330\n",
      "threads-stack-overflow-full Number of nodes 2524925 Number of hyperedges 8790363\n"
     ]
    }
   ],
   "execution_count": 2
  },
  {
   "metadata": {},
   "cell_type": "markdown",
   "source": [
    "# Sampling and estimation in empirical hypergraphs\n",
    "\n",
    "To conduct numerical simulations on these five empirical hypergraphs, run the following.  \n",
    "The corresponding results will be saved in the `result` folder."
   ],
   "id": "9b568e4c2e7c36c8"
  },
  {
   "metadata": {},
   "cell_type": "code",
   "outputs": [],
   "execution_count": null,
   "source": [
    "for hypergraph_name in ['mag-geology', 'mag-history', 'dblp', 'amazon', 'stack-overflow']:\n",
    "    sim.sim_1(hypergraph_name, min_r=100, max_r=10000, num_runs=1000)\n",
    "    sim.sim_2(hypergraph_name, min_r=100, max_r=10000, num_runs=1000)\n",
    "    sim.sim_3(hypergraph_name, min_r=100, max_r=10000, num_runs=1000)\n",
    "    sim.sim_4(hypergraph_name, min_r=100, max_r=10000, num_runs=1000)\n",
    "    sim.sim_5(hypergraph_name, min_r=100, max_r=10000, num_runs=1000)\n",
    "    sim.sim_6(hypergraph_name, r=10000, num_runs=1000)\n",
    "    sim.sim_7(hypergraph_name, r=10000, num_runs=1000)\n",
    "    sim.sim_8(hypergraph_name, min_r=100, max_r=10000, num_runs=1000)"
   ],
   "id": "29c0f256d87e0168"
  }
 ],
 "metadata": {
  "kernelspec": {
   "display_name": "Python 3",
   "language": "python",
   "name": "python3"
  },
  "language_info": {
   "codemirror_mode": {
    "name": "ipython",
    "version": 2
   },
   "file_extension": ".py",
   "mimetype": "text/x-python",
   "name": "python",
   "nbconvert_exporter": "python",
   "pygments_lexer": "ipython2",
   "version": "2.7.6"
  }
 },
 "nbformat": 4,
 "nbformat_minor": 5
}
