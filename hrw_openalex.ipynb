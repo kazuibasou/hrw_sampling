{
 "cells": [
  {
   "cell_type": "code",
   "execution_count": null,
   "id": "initial_id",
   "metadata": {
    "collapsed": true
   },
   "outputs": [],
   "source": "import openalex"
  },
  {
   "metadata": {},
   "cell_type": "markdown",
   "source": [
    "# Sampling and estimation in OpenAlex\n",
    "\n",
    "To conduct a random walk on the OpenAlex hypergraph, run the following.  \n",
    "The corresponding estimation results will be saved in the `result` folder.  \n",
    "\n",
    "We checked that our code worked well against the OpenAlex API as of February 2025, but the terms of use and call limits for the OpenAlex API may be changed.  \n",
    "It is the user's responsibility to ensure that the code complies with the rate limits of the OpenAlex API."
   ],
   "id": "f4f1e7cce4beb9a2"
  },
  {
   "metadata": {},
   "cell_type": "code",
   "outputs": [],
   "execution_count": null,
   "source": [
    "openalex.nbhorw(num_samples=40000, restart=False)\n",
    "openalex.estimation()"
   ],
   "id": "ad94bdb312aaf973"
  }
 ],
 "metadata": {
  "kernelspec": {
   "display_name": "Python 3",
   "language": "python",
   "name": "python3"
  },
  "language_info": {
   "codemirror_mode": {
    "name": "ipython",
    "version": 2
   },
   "file_extension": ".py",
   "mimetype": "text/x-python",
   "name": "python",
   "nbconvert_exporter": "python",
   "pygments_lexer": "ipython2",
   "version": "2.7.6"
  }
 },
 "nbformat": 4,
 "nbformat_minor": 5
}
